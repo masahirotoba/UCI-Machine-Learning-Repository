{
  "nbformat": 4,
  "nbformat_minor": 0,
  "metadata": {
    "colab": {
      "provenance": [],
      "mount_file_id": "1aCSMgewn7EbEYRh2SeiyXiBxv61O58RK",
      "authorship_tag": "ABX9TyNMyhGpnVZna3Dl/Br/zALR"
    },
    "kernelspec": {
      "name": "python3",
      "display_name": "Python 3"
    },
    "language_info": {
      "name": "python"
    }
  },
  "cells": [
    {
      "cell_type": "code",
      "source": [
        "# ライブラリをインポート\n",
        "import pandas as pd\n",
        "import matplotlib.pyplot as plt\n",
        "import seaborn as sns"
      ],
      "metadata": {
        "id": "vcghiy6pm4ID"
      },
      "execution_count": 17,
      "outputs": []
    },
    {
      "cell_type": "code",
      "source": [
        "# Install the ucimlrepo package\n",
        "pip install ucimlrepo"
      ],
      "metadata": {
        "colab": {
          "base_uri": "https://localhost:8080/",
          "height": 110
        },
        "id": "K8KGkAEzDMmK",
        "outputId": "f88df274-3f63-43b1-91f3-7ef3e6b9c60f"
      },
      "execution_count": 18,
      "outputs": [
        {
          "output_type": "error",
          "ename": "SyntaxError",
          "evalue": "invalid syntax (ipython-input-2592128605.py, line 2)",
          "traceback": [
            "\u001b[0;36m  File \u001b[0;32m\"/tmp/ipython-input-2592128605.py\"\u001b[0;36m, line \u001b[0;32m2\u001b[0m\n\u001b[0;31m    pip install ucimlrepo\u001b[0m\n\u001b[0m        ^\u001b[0m\n\u001b[0;31mSyntaxError\u001b[0m\u001b[0;31m:\u001b[0m invalid syntax\n"
          ]
        }
      ]
    },
    {
      "cell_type": "code",
      "source": [
        "# Import the dataset into your code\n",
        "from ucimlrepo import fetch_ucirepo\n",
        "\n",
        "# fetch dataset\n",
        "iris = fetch_ucirepo(id=53)\n",
        "\n",
        "# data (as pandas dataframes)\n",
        "X = iris.data.features\n",
        "y = iris.data.targets\n",
        "\n",
        "# metadata\n",
        "print(iris.metadata)\n",
        "\n",
        "# variable information\n",
        "print(iris.variables)"
      ],
      "metadata": {
        "id": "E_VbO9izDS4G"
      },
      "execution_count": null,
      "outputs": []
    }
  ]
}